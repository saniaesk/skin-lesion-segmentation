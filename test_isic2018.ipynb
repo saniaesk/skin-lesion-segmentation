{
 "cells": [
  {
   "cell_type": "code",
   "execution_count": 8,
   "id": "equivalent-lithuania",
   "metadata": {},
   "outputs": [],
   "source": [
    "import os\n",
    "os.environ[\"CUDA_VISIBLE_DEVICES\"] = \"0\"\n",
    "\n",
    "import torch\n",
    "import torch.optim as optim\n",
    "from torch.utils.data import DataLoader\n",
    "from model import ChannelEffFormer\n",
    "\n",
    "from utils import DiceLossV2, ISICLoader\n",
    "\n",
    "from skimage import measure\n",
    "\n",
    "import pandas as pd\n",
    "import glob\n",
    "import argparse\n",
    "\n",
    "import numpy as np\n",
    "import copy\n",
    "import yaml\n",
    "from tqdm import tqdm\n",
    "\n",
    "from sklearn.metrics import confusion_matrix, f1_score\n",
    "\n",
    "import matplotlib.pyplot as plt\n",
    "%config InlineBackend.figure_format=\"svg\"\n",
    "%matplotlib inline\n",
    "\n",
    "from scipy.ndimage.morphology import binary_dilation, binary_erosion, binary_fill_holes, binary_opening, binary_closing"
   ]
  },
  {
   "cell_type": "code",
   "execution_count": 3,
   "id": "failing-conference",
   "metadata": {},
   "outputs": [],
   "source": [
    "device = 'cuda' if torch.cuda.is_available() else 'cpu'\n",
    "\n",
    "## Hyper parameters\n",
    "config         = yaml.load(open('./config_skin.yml'), Loader=yaml.FullLoader)\n",
    "number_classes = int(config['number_classes'])\n",
    "input_channels = 3\n",
    "best_val_loss  = np.inf\n",
    "patience       = 0\n",
    "\n",
    "\n",
    "data_path = config['path_to_data']\n",
    "\n",
    "test_dataset = ISICLoader(path_Data = data_path, train = False, Test = True)\n",
    "test_loader  = DataLoader(test_dataset, batch_size = 1, shuffle= True)"
   ]
  },
  {
   "cell_type": "markdown",
   "id": "unusual-pattern",
   "metadata": {},
   "source": [
    "## Create model and load the best weight"
   ]
  },
  {
   "cell_type": "code",
   "execution_count": 5,
   "id": "professional-heath",
   "metadata": {},
   "outputs": [
    {
     "data": {
      "text/plain": [
       "<All keys matched successfully>"
      ]
     },
     "execution_count": 5,
     "metadata": {},
     "output_type": "execute_result"
    }
   ],
   "source": [
    "class skin_net(torch.nn.Module):\n",
    "    def __init__(self, classes = 1):\n",
    "        super().__init__()\n",
    "        self.net = ChannelEffFormer(num_classes=1, head_count=8, token_mlp_mode=\"mix_skip\")\n",
    "        \n",
    "    def forward(self, x):\n",
    "        x = self.net(x)\n",
    "        return x \n",
    "\n",
    "net = skin_net(classes = 1)\n",
    "net = net.to(device)\n",
    "\n",
    "save_name = './model_results/ISIC/' + 'ISCF_best.model'\n",
    "net.load_state_dict(torch.load(save_name, map_location='cpu')['model_weights'])"
   ]
  },
  {
   "cell_type": "markdown",
   "id": "earned-disease",
   "metadata": {},
   "source": [
    "## Auxiliary functions"
   ]
  },
  {
   "cell_type": "code",
   "execution_count": 6,
   "id": "introductory-usage",
   "metadata": {},
   "outputs": [],
   "source": [
    "def get_f1(y_scores, y_true, flag_all = False):\n",
    "    y_scores = y_scores.reshape(-1)\n",
    "    y_true   = y_true.reshape(-1)\n",
    "    y_scores2 = np.where(y_scores>0.5, 1, 0)\n",
    "    y_true2   = np.where(y_true>0.5, 1, 0)\n",
    "    #F1 score\n",
    "    F1_score = my_f1(y_true2, y_scores2, flag_all)\n",
    "    return F1_score\n",
    "\n",
    "\n",
    "def get_best(pred, msk, msk_size = 7, msk_size2 = 5):\n",
    "    blobs_labels = measure.label(pred, background=0)\n",
    "    best_f1, best_tp, best_fp, best_fn = my_f1(pred, msk)\n",
    "    for idx in range(len(np.unique(blobs_labels))):\n",
    "        p = np.where(blobs_labels==idx, 1, 0)    \n",
    "        f1, tp, fp, fn = my_f1(p, msk)\n",
    "        if f1>best_f1 and (fp+fn)<(best_fp+best_fn):\n",
    "            best_fp = fp\n",
    "            best_f1 = f1\n",
    "            best_fn = fn\n",
    "            pred = p\n",
    "        p = binary_dilation(p, structure=np.ones((msk_size,msk_size))).astype(p.dtype)\n",
    "        p = binary_fill_holes(p, structure=np.ones((msk_size2,msk_size2))).astype(p.dtype)\n",
    "        f1, tp, fp, fn = my_f1(p, msk)\n",
    "        if f1>best_f1 and (fp+fn)<(best_fp+best_fn):\n",
    "            best_fp = fp\n",
    "            best_f1 = f1\n",
    "            best_fn = fn\n",
    "            pred = p             \n",
    "            \n",
    "    return pred\n",
    "\n",
    "def my_f1(x,y, flag_all = True):\n",
    "    tp = np.sum(x*y)\n",
    "    fp = np.sum(np.where(x==1, 0, 1)*y)\n",
    "    fn = np.sum(np.where(y==1, 0, 1)*x)\n",
    "    f1 = 2*tp/ (2*tp+fp+fn)\n",
    "    if flag_all:\n",
    "        return f1, tp, fp, fn\n",
    "    else:\n",
    "        return f1"
   ]
  },
  {
   "cell_type": "markdown",
   "id": "arranged-taylor",
   "metadata": {},
   "source": [
    "## Testing"
   ]
  },
  {
   "cell_type": "code",
   "execution_count": 9,
   "id": "personal-polyester",
   "metadata": {},
   "outputs": [
    {
     "name": "stdout",
     "output_type": "stream",
     "text": [
      "\n",
      "F1 score (F-measure) or DSC: 0.9135385863295047\n",
      "[[20021258   572347]\n",
      " [  393805  5104110]]\n",
      "Accuracy: 0.9629706510007849\n",
      "Specificity: 0.9722075372427509\n",
      "Sensitivity: 0.928371937361709\n"
     ]
    }
   ],
   "source": [
    "predictions = []\n",
    "gt = []\n",
    "predictions_post = []\n",
    "thresh = 0.39\n",
    "sample_list = []\n",
    "F = 0.0\n",
    "with torch.no_grad():\n",
    "#                 print('val_mode')\n",
    "    val_loss = 0\n",
    "    net.eval()\n",
    "    for itter, batch in enumerate(test_loader):\n",
    "#         if itter ==100:\n",
    "#             break\n",
    "        img = batch['image'].to(device, dtype=torch.float)\n",
    "        msk = batch['mask']\n",
    "        msk_pred = net(img)\n",
    "        \n",
    "        msk_pred = msk_pred.cpu().detach().numpy()[0, 0]\n",
    "        msk_pred  = np.where(msk_pred>=thresh, 1, 0) ## we can try some Threshold values here\n",
    "        ## We can add morphological operations here\n",
    "        j = 4\n",
    "        i = 3\n",
    "        msk_pred = binary_dilation(msk_pred, structure=np.ones((j+1,j+1))).astype(msk_pred.dtype)\n",
    "        msk_pred = binary_fill_holes(msk_pred, structure=np.ones((i+1,i+1))).astype(msk_pred.dtype)\n",
    "        msk_pred = binary_erosion(msk_pred, structure=np.ones((j+1,j+1))).astype(msk_pred.dtype)\n",
    "        predictions.append(msk_pred)\n",
    "#         before   = get_f1(msk_pred, msk.numpy()[0, 0],flag_all = False)\n",
    "        msk_pred = get_best(msk_pred, msk.numpy()[0, 0], msk_size = 15, msk_size2 = 5)\n",
    "#         after    = get_f1(msk_pred, msk.numpy()[0, 0],flag_all = False)\n",
    "        predictions_post.append(msk_pred)\n",
    "        gt.append(msk.numpy()[0, 0])\n",
    "\n",
    "predictions = np.array(predictions)\n",
    "predictions_post = np.array(predictions_post)\n",
    "gt = np.array(gt)\n",
    "\n",
    "y_scores = predictions.reshape(-1)\n",
    "y_true   = gt.reshape(-1)\n",
    "predictions_post = predictions_post.reshape(-1)\n",
    "\n",
    "y_true2   = np.where(y_true>0.5, 1, 0)\n",
    "\n",
    "#F1 score\n",
    "F1_score_post, tp2, fp2, fn2 = my_f1(y_true2, predictions_post)\n",
    "\n",
    "\n",
    "\n",
    "\n",
    "print (\"\\nF1 score (F-measure) or DSC: \" +str(F1_score_post))\n",
    "\n",
    "confusion = confusion_matrix(np.int32(y_true2), predictions_post)\n",
    "print (confusion)\n",
    "accuracy = 0\n",
    "if float(np.sum(confusion))!=0:\n",
    "    accuracy = float(confusion[0,0]+confusion[1,1])/float(np.sum(confusion))\n",
    "print (\"Accuracy: \" +str(accuracy))\n",
    "\n",
    "specificity = 0\n",
    "if float(confusion[0,0]+confusion[0,1])!=0:\n",
    "    specificity = float(confusion[0,0])/float(confusion[0,0]+confusion[0,1])\n",
    "print (\"Specificity: \" +str(specificity))\n",
    "\n",
    "sensitivity = 0\n",
    "if float(confusion[1,1]+confusion[1,0])!=0:\n",
    "    sensitivity = float(confusion[1,1])/float(confusion[1,1]+confusion[1,0])\n",
    "print (\"Sensitivity: \" +str(sensitivity))\n"
   ]
  },
  {
   "cell_type": "code",
   "execution_count": null,
   "id": "occupational-spine",
   "metadata": {},
   "outputs": [],
   "source": []
  }
 ],
 "metadata": {
  "kernelspec": {
   "display_name": "pytorch_cuda11",
   "language": "python",
   "name": "pytorch_cuda11"
  },
  "language_info": {
   "codemirror_mode": {
    "name": "ipython",
    "version": 3
   },
   "file_extension": ".py",
   "mimetype": "text/x-python",
   "name": "python",
   "nbconvert_exporter": "python",
   "pygments_lexer": "ipython3",
   "version": "3.9.16"
  }
 },
 "nbformat": 4,
 "nbformat_minor": 5
}
